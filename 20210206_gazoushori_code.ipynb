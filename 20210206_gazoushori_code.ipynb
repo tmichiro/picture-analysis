{
 "cells": [
  {
   "attachments": {},
   "cell_type": "markdown",
   "metadata": {},
   "source": [
    "## ◆膨張・収縮処理\n",
    "参考サイト https://pystyle.info/opencv-morpology-operation/\n",
    "\n",
    "<膨張処理>\n",
    "カーネルを走査していき、カーネル中央の画像の輝度値を、近傍領域の最大輝度で置換する(白に変換)。\n",
    "\n",
    "<収縮処理>\n",
    "カーネルを走査していき、カーネル中央の画像の輝度値を、近傍領域の最小輝度で置換する(黒に変換)。"
   ]
  },
  {
   "cell_type": "code",
   "execution_count": null,
   "metadata": {},
   "outputs": [],
   "source": [
    "import cv2\n",
    "import matplotlib.pyplot as plt\n",
    "import numpy as np\n",
    "from IPython.display import Image, display\n",
    "\n",
    "#画像の表示を定義　ndarray 配列をインラインで Notebook 上に表示する。\n",
    "def imshow(img):\n",
    "    ret, encoded = cv2.imencode(\".jpg\", img)\n",
    "    display(Image(encoded))"
   ]
  },
  {
   "cell_type": "markdown",
   "metadata": {},
   "source": [
    "## ●膨張処理\n",
    "#カーネルを走査していき、カーネル中央の画像の輝度値を、近傍領域の最大輝度で置換する(白に変換)。"
   ]
  },
  {
   "cell_type": "code",
   "execution_count": null,
   "metadata": {},
   "outputs": [],
   "source": [
    "#近傍領域の定義\n",
    "rect_kernel = cv2.getStructuringElement(cv2.MORPH_RECT, (5, 5))\n",
    "cross_kernel = cv2.getStructuringElement(cv2.MORPH_CROSS, (5, 5))\n",
    "ellipse_kernel = cv2.getStructuringElement(cv2.MORPH_ELLIPSE, (5, 5))\n",
    "\n",
    "#自分で定義\n",
    "my_kernel = np.ones((7,7)).reshape([7,7])"
   ]
  },
  {
   "cell_type": "code",
   "execution_count": null,
   "metadata": {},
   "outputs": [],
   "source": [
    "#定義した近傍領域の表示\n",
    "print(\"rect_kernel\")\n",
    "print(rect_kernel )\n",
    "print(\"cross_kernel\")\n",
    "print(cross_kernel)\n",
    "print(\"ellipse_kernel\")\n",
    "print(ellipse_kernel)\n",
    "\n",
    "print(\"my_kernel\")\n",
    "print(my_kernel)"
   ]
  },
  {
   "cell_type": "code",
   "execution_count": null,
   "metadata": {},
   "outputs": [],
   "source": [
    "# 画像をグレースケール形式で読み込む。\n",
    "sample1= \"home/tabataimac27/sample1.jpg\"\n",
    "img = cv2.imread(\"sample1.jpg\", cv2.IMREAD_GRAYSCALE)\n",
    "\n",
    "# 2値画像を収縮する。\n",
    "dst = cv2.dilate(img, cross_kernel)\n",
    "imshow(dst)"
   ]
  },
  {
   "cell_type": "markdown",
   "metadata": {},
   "source": [
    "## ●収縮処理\n",
    "カーネルを走査していき、カーネル中央の画像の輝度値を、近傍領域の最小輝度で置換する(黒に変換)。\n",
    "→ノイズ除去に応用"
   ]
  },
  {
   "cell_type": "code",
   "execution_count": null,
   "metadata": {},
   "outputs": [],
   "source": [
    "sample2= \"home/tabataimac27/sample2.jpg\"\n",
    "img = cv2.imread(\"sample2.jpg\", cv2.IMREAD_GRAYSCALE)\n",
    "dst = cv2.erode(img, cross_kernel)\n",
    "imshow(img)\n",
    "imshow(dst)"
   ]
  },
  {
   "cell_type": "markdown",
   "metadata": {},
   "source": [
    "## ◆オープニング・クロージング\n",
    "<オープニング>\n",
    "収縮処理の繰り返し後、同回数だけ膨張処理\n",
    "\n",
    "<クロージング>\n",
    "膨張処理の繰り返し後、同回数だけ収縮処理"
   ]
  },
  {
   "cell_type": "markdown",
   "metadata": {},
   "source": [
    "## ●オープニング"
   ]
  },
  {
   "cell_type": "code",
   "execution_count": null,
   "metadata": {},
   "outputs": [],
   "source": []
  },
  {
   "cell_type": "code",
   "execution_count": null,
   "metadata": {},
   "outputs": [],
   "source": []
  },
  {
   "cell_type": "code",
   "execution_count": null,
   "metadata": {},
   "outputs": [],
   "source": []
  },
  {
   "cell_type": "code",
   "execution_count": null,
   "metadata": {},
   "outputs": [],
   "source": []
  },
  {
   "cell_type": "code",
   "execution_count": null,
   "metadata": {},
   "outputs": [],
   "source": []
  },
  {
   "cell_type": "code",
   "execution_count": null,
   "metadata": {},
   "outputs": [],
   "source": []
  },
  {
   "cell_type": "code",
   "execution_count": null,
   "metadata": {},
   "outputs": [],
   "source": []
  },
  {
   "cell_type": "code",
   "execution_count": null,
   "metadata": {},
   "outputs": [],
   "source": []
  },
  {
   "cell_type": "code",
   "execution_count": null,
   "metadata": {},
   "outputs": [],
   "source": []
  },
  {
   "cell_type": "code",
   "execution_count": null,
   "metadata": {},
   "outputs": [],
   "source": []
  },
  {
   "cell_type": "code",
   "execution_count": null,
   "metadata": {},
   "outputs": [],
   "source": []
  },
  {
   "cell_type": "code",
   "execution_count": null,
   "metadata": {},
   "outputs": [],
   "source": []
  },
  {
   "cell_type": "code",
   "execution_count": null,
   "metadata": {},
   "outputs": [],
   "source": []
  },
  {
   "cell_type": "markdown",
   "metadata": {},
   "source": [
    "## ●クロージング"
   ]
  },
  {
   "cell_type": "code",
   "execution_count": null,
   "metadata": {},
   "outputs": [],
   "source": []
  }
 ],
 "metadata": {
  "kernelspec": {
   "display_name": "Python 3",
   "language": "python",
   "name": "python3"
  },
  "language_info": {
   "codemirror_mode": {
    "name": "ipython",
    "version": 3
   },
   "file_extension": ".py",
   "mimetype": "text/x-python",
   "name": "python",
   "nbconvert_exporter": "python",
   "pygments_lexer": "ipython3",
   "version": "3.7.5"
  }
 },
 "nbformat": 4,
 "nbformat_minor": 2
}
